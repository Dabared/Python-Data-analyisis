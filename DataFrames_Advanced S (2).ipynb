{
 "cells": [
  {
   "cell_type": "markdown",
   "id": "0c65e8f3-1396-4c34-917f-df73679137f3",
   "metadata": {},
   "source": [
    "## Common tabular operations in pandas\n",
    "\n",
    "So far, you have learned the basics of pandas data structures (i.e. Series and DataFrame) and familiar with basic methods for loading and exploring data. n this section, we will continue exploring the pandas functionalities, and see how it can be used for data manipulation, conducting simple calculations, and making selections based on specific criteria.\n",
    "\n",
    "Lets recall the few operations:\n",
    "\n",
    "1. Seclection a table column / mulptiple columns\n",
    "2. Selecting a row / multiple rows\n",
    "3. Creating a new column\n",
    "4. Creating a new row\n",
    "5. Dropping a column or a row\n",
    "6. Changing column order\n",
    "\n",
    "Lets follow the instruction given below."
   ]
  },
  {
   "cell_type": "markdown",
   "id": "26b2087b-fa41-4fa4-ab87-496ecaccf4d0",
   "metadata": {},
   "source": [
    "Import \"bankdata_2.csv\" to a variable \"bank_data\"."
   ]
  },
  {
   "cell_type": "markdown",
   "id": "1e389423-c19f-4bc3-b405-ea84db509c42",
   "metadata": {},
   "source": [
    "List the columns names of the table"
   ]
  },
  {
   "cell_type": "markdown",
   "id": "4b41dd87-22e3-4669-af87-eb2d94ef9b20",
   "metadata": {},
   "source": [
    "#### 1. Seclection a table column / mulptiple columns\n",
    "Select \"Name: and \"CurrentBalance\" column and save in to another table (say, bank_data)."
   ]
  },
  {
   "cell_type": "markdown",
   "id": "033d3f54-2dea-4e89-b26d-41badb9248ab",
   "metadata": {},
   "source": [
    "#### 2. Selecting a row / multiple rows\n",
    "\n",
    "Select 0 - 5 raws"
   ]
  },
  {
   "cell_type": "markdown",
   "id": "00a1a1ef-c4b3-4d18-8d06-40b936ce3f56",
   "metadata": {},
   "source": [
    "Select even raws from 2 to 8."
   ]
  },
  {
   "cell_type": "markdown",
   "id": "c25c1476-7f20-4760-b230-f702d42e68ec",
   "metadata": {},
   "source": [
    "How to get first 5 rows of \"Name\" column?"
   ]
  },
  {
   "cell_type": "markdown",
   "id": "f0d42d7f-e596-4783-a7ff-de4945df8122",
   "metadata": {},
   "source": [
    "How to get first 5 rows of \"CurrentBalance\" column?"
   ]
  },
  {
   "cell_type": "markdown",
   "id": "fea1cc04-ff37-43c6-a641-ce8b676b2c94",
   "metadata": {},
   "source": [
    "#### 3. Creating columns\n",
    "Create a column named \"Balance_Status\" of the \"account_data\" table and set the status based on the following rules:\n",
    "- if the account balance is in between 0 - 10000 then the balance_status = \"low\"\n",
    "- if the account balance is in between 10001 - 30000 then the balance_status = \"medium\"\n",
    "- if the account balance is above 30001 the the balance_status = \"high\"\n",
    "\n",
    "Hint: Use a function that returns the above status depending on the balance. Then, generate a list contains the specific balance_status depending on the balance, and assign this list values to the balance_status column.\n"
   ]
  },
  {
   "cell_type": "markdown",
   "id": "18eca986-096c-411f-89b6-95d9c5e97ddb",
   "metadata": {},
   "source": [
    "We may use here inline loop, i.e. list created by [ x for x in ...],  to construct the list values."
   ]
  },
  {
   "cell_type": "markdown",
   "id": "36e3501f-556c-4467-a528-196eaa8a2613",
   "metadata": {},
   "source": [
    "#### Inserting a new row values\n",
    "We can insert a single row using DataFrame.loc. function. The refernce for the last indes is given by len(DataFrame.index).\n",
    "\n",
    "Insert a column contains values \"John Doe\", 45000, \"high\" to the last row."
   ]
  },
  {
   "cell_type": "markdown",
   "id": "1341b5ae-0d5b-463b-9309-3f286fceadf8",
   "metadata": {},
   "source": [
    "#### Difference Between loc and iloc\n",
    "The difference between the \"loc\" and \"iloc\" functions is that the \"loc\" function selects rows using row labels whereas the \"iloc\" function selects rows using their integer positions (staring from 0 and going up by one for each row). In the selection of rows, the best practice to use \"loc\" only when the index are given as lables. However, \"loc\" has to be used in the case updating an entire row of the data-frame."
   ]
  },
  {
   "cell_type": "markdown",
   "id": "9a3983f4-2e51-46e6-b216-0425c27d6ef3",
   "metadata": {},
   "source": [
    "#### Dropping (deleting) a row\n",
    "Deleting a row is possible using the funtion \"drop\", with index parameter. Muptiple row dropping is also possible.\n"
   ]
  },
  {
   "cell_type": "markdown",
   "id": "a4f718bf-10d7-4106-a954-3b828c60ad2e",
   "metadata": {},
   "source": [
    "#### Deleting/Dropping Rows based on Column Values\n",
    "To delete rows from a DataFrame based on a specific column value, you can use the drop method in Pandas. The drop method takes an argument index, which is a list of row labels to delete.\n",
    "\n",
    "Drop all data belnging to \"Lilly Willy\"."
   ]
  },
  {
   "cell_type": "markdown",
   "id": "cb721b08-acff-4e60-8b0e-b34760d4f97a",
   "metadata": {},
   "source": [
    "#### Dropping a Column\n",
    "\n",
    "Dropping a column is also based on the drop function. However, we should specify the \"axis\" as \"column\".\n",
    "\n",
    "Drop the \"balance_status\" column"
   ]
  },
  {
   "cell_type": "markdown",
   "id": "056bbf2d-d87a-47ce-b471-0e6bd5575599",
   "metadata": {},
   "source": [
    "#### Channging the column order\n",
    "Changing order can be directly done by re-arranging the columns on the data-frame directly. Loc function can also used in changing the column order. These alterations will create a new data-frame.\n",
    "\n",
    "Interchange the oder of columns: Name and CurrentBalance"
   ]
  },
  {
   "cell_type": "markdown",
   "id": "efc6ce66-9d24-459d-8752-4c2918b3af60",
   "metadata": {},
   "source": [
    "Interchange the columns using the \"loc\" function:"
   ]
  },
  {
   "cell_type": "markdown",
   "id": "2fd14c8e-4685-4c50-bbc2-a08f11aa0c12",
   "metadata": {},
   "source": [
    "#### Pandas Multi-Index Tables\n",
    "\n",
    "Pandas data-frames has ability to represent more than one row-wise index.\n",
    "Lets consider the above example and extend the table so that it has following additional columns.\n",
    "- Account number: Unique number\n",
    "- Branch code: possible codes [100,101,...,140]\n"
   ]
  }
 ],
 "metadata": {
  "kernelspec": {
   "display_name": "Python 3 (ipykernel)",
   "language": "python",
   "name": "python3"
  },
  "language_info": {
   "codemirror_mode": {
    "name": "ipython",
    "version": 3
   },
   "file_extension": ".py",
   "mimetype": "text/x-python",
   "name": "python",
   "nbconvert_exporter": "python",
   "pygments_lexer": "ipython3",
   "version": "3.11.2"
  }
 },
 "nbformat": 4,
 "nbformat_minor": 5
}
