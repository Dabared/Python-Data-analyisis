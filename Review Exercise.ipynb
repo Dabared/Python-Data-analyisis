{
 "cells": [
  {
   "cell_type": "markdown",
   "id": "28500a60-a2e5-40bf-a942-c0dd79a017fd",
   "metadata": {},
   "source": [
    "### Review Exercise\n",
    "#### Instruction\n",
    "- Individually or a a group, work on the following questions.\n",
    "- Use the data in \"bankdata_2.csv\" for answering the questions"
   ]
  },
  {
   "cell_type": "markdown",
   "id": "3d7f7225-8048-4d0b-b457-dc64c2412503",
   "metadata": {},
   "source": [
    "#### Question 1: Basic pandas DataFrame functionalities\n",
    "Import the \"bankdata_2.csv\" to a DataFrame named \"b_data\".\n",
    "1.  How many of records are in the table refering to the person \"Robert Willy\"?\n",
    "2.  What is the maximum \"balance\" amount recorded under \"Robert Willy\" name?\n",
    "3.  Compare the \"balance\" amount among the individuals who are \"unemployed\" and having a \"management\" job. Use mean, standard deviation, minimum and maximum, statistics in your comparison.\n",
    "4.  Plot histograms to make the above comparison.\n",
    "5.  Compare value counts of the mairital status among the people who are \"unemployed\" and having a some job. Here, people with job status \"unknown\" considered to be as employed."
   ]
  },
  {
   "cell_type": "markdown",
   "id": "22aef77d-e964-4160-939d-2ae2db69f02d",
   "metadata": {},
   "source": [
    "#### Question 2: DataFrame analytics\n",
    "\n",
    "1.  Create a new column called \"loan_status\". Set the value \"True\" if either \"housing\" or \"loan\" column has status \"yes\", ootherwise \"False\".\n",
    "2.  Assume that, when the loan_status is \"True\", the minimum account \"balance\" shold be maintained is $1000. What is the precentage of the indivudlas who follows this condition?\n",
    "3.  Compare the \"job\" status among the people between their loan_status is \"True\" and \"False\". Use appropriate diagrams in your analysis. "
   ]
  },
  {
   "cell_type": "markdown",
   "id": "b06de8d0-4958-4682-91d6-54bf4df95f47",
   "metadata": {},
   "source": [
    "#### Question 3: Data Analystics\n",
    "You may use PyCharm or Notbook to workout on this question.\n",
    "\n",
    "\n",
    "Consider the list of elements:\n",
    " - [100, 288, 129, \"NA\", 233, \"NA\", \"NA\", 652, 662, \"NA\", 927]\n",
    "\n",
    "Herein, \"NA\" indicates missing values.\n",
    "1.  Wriet a function to replace the missing values by the mean of remaining values.\n",
    "2.  Assume that the missing has to be set by the average value of the surrounding two values to the missing value, i.e. for \"NA\" in the 4th position, it should be replaced by value (129+223)/2, and missing values at 6th and 7th positions, both values should be replaced by the average of surroundings (233+652)/2. Write a function to accomplish this task.\n",
    "3.  If the list has missing values at its front or rear ends, how would you modify the above function?"
   ]
  }
 ],
 "metadata": {
  "kernelspec": {
   "display_name": "Python 3 (ipykernel)",
   "language": "python",
   "name": "python3"
  },
  "language_info": {
   "codemirror_mode": {
    "name": "ipython",
    "version": 3
   },
   "file_extension": ".py",
   "mimetype": "text/x-python",
   "name": "python",
   "nbconvert_exporter": "python",
   "pygments_lexer": "ipython3",
   "version": "3.12.3"
  }
 },
 "nbformat": 4,
 "nbformat_minor": 5
}
