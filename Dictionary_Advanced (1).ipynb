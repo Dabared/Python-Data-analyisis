{
 "cells": [
  {
   "cell_type": "markdown",
   "id": "8419a3bc",
   "metadata": {},
   "source": [
    "#### Recall the dictionery operations\n",
    "- Creat dictionery\n",
    "- Access ditionery entries\n",
    "- iterating over dictioneries\n",
    "\n",
    "#### Example:\n",
    "\n",
    "1. Create a dictionary containing account information\n",
    " - Tyeps of the account\n",
    " - banks\n",
    " - years"
   ]
  },
  {
   "cell_type": "code",
   "execution_count": 5,
   "id": "c8e3707a",
   "metadata": {},
   "outputs": [],
   "source": [
    "accounts = {'type':['Saving', 'Current','Saving'], 'bank':['BOC','SEY','SAM'] , 'year':[2000,2001,2003]}"
   ]
  },
  {
   "cell_type": "code",
   "execution_count": 7,
   "id": "2bc01de8",
   "metadata": {},
   "outputs": [
    {
     "data": {
      "text/plain": [
       "{'type': ['Saving', 'Current', 'Saving'],\n",
       " 'bank': ['BOC', 'SEY', 'SAM'],\n",
       " 'year': [2000, 2001, 2003]}"
      ]
     },
     "execution_count": 7,
     "metadata": {},
     "output_type": "execute_result"
    }
   ],
   "source": [
    "accounts"
   ]
  },
  {
   "cell_type": "markdown",
   "id": "a5399ccf",
   "metadata": {},
   "source": [
    "- How to access keys?\n",
    "- How to access Values?"
   ]
  },
  {
   "cell_type": "code",
   "execution_count": 11,
   "id": "e23744df",
   "metadata": {},
   "outputs": [
    {
     "name": "stdout",
     "output_type": "stream",
     "text": [
      "Keys are dict_keys(['type', 'bank', 'year'])\n",
      "Values are ['Saving', 'Current', 'Saving']\n",
      "Values are ['BOC', 'SEY', 'SAM']\n",
      "Values are [2000, 2001, 2003]\n"
     ]
    }
   ],
   "source": [
    "print('Keys are', accounts.keys())\n",
    "print('Values are', accounts['type'])\n",
    "print('Values are', accounts['bank'])\n",
    "print('Values are', accounts['year'])"
   ]
  },
  {
   "cell_type": "code",
   "execution_count": 13,
   "id": "6a7e8aef",
   "metadata": {},
   "outputs": [
    {
     "name": "stdout",
     "output_type": "stream",
     "text": [
      "Dictionary contains the items dict_items([('type', ['Saving', 'Current', 'Saving']), ('bank', ['BOC', 'SEY', 'SAM']), ('year', [2000, 2001, 2003])])\n"
     ]
    }
   ],
   "source": [
    "print(\"Dictionary contains the items\", accounts.items())"
   ]
  },
  {
   "cell_type": "markdown",
   "id": "cc140bb9",
   "metadata": {},
   "source": [
    "- List the account types stored in \"accounts\""
   ]
  },
  {
   "cell_type": "code",
   "execution_count": 16,
   "id": "ab0514db",
   "metadata": {},
   "outputs": [
    {
     "data": {
      "text/plain": [
       "['Saving', 'Current', 'Saving']"
      ]
     },
     "execution_count": 16,
     "metadata": {},
     "output_type": "execute_result"
    }
   ],
   "source": [
    "list(accounts['type'])  "
   ]
  },
  {
   "cell_type": "markdown",
   "id": "b71a00f8",
   "metadata": {},
   "source": [
    "What are the account types saved in accounts-dictionary?"
   ]
  },
  {
   "cell_type": "code",
   "execution_count": 18,
   "id": "2f8c3e6e",
   "metadata": {},
   "outputs": [
    {
     "data": {
      "text/plain": [
       "{'Current', 'Saving'}"
      ]
     },
     "execution_count": 18,
     "metadata": {},
     "output_type": "execute_result"
    }
   ],
   "source": [
    "set(accounts['type'])"
   ]
  },
  {
   "cell_type": "code",
   "execution_count": 23,
   "id": "3c0b9cec",
   "metadata": {},
   "outputs": [
    {
     "name": "stdout",
     "output_type": "stream",
     "text": [
      "The key; type has items: ['Saving', 'Current', 'Saving']\n",
      "The key; bank has items: ['BOC', 'SEY', 'SAM']\n",
      "The key; year has items: [2000, 2001, 2003]\n"
     ]
    }
   ],
   "source": [
    "for key in accounts.keys():\n",
    "    print('The key;', key, 'has items:', accounts[key])"
   ]
  },
  {
   "cell_type": "code",
   "execution_count": 25,
   "id": "43f479b9",
   "metadata": {},
   "outputs": [
    {
     "name": "stdout",
     "output_type": "stream",
     "text": [
      "type has values ['Saving', 'Current', 'Saving']\n",
      "bank has values ['BOC', 'SEY', 'SAM']\n",
      "year has values [2000, 2001, 2003]\n"
     ]
    }
   ],
   "source": [
    "for key, value in accounts.items():\n",
    "    print(key, 'has values', value)"
   ]
  },
  {
   "cell_type": "markdown",
   "id": "e70f7de0",
   "metadata": {},
   "source": [
    "How to add a another 'key' information to the dictionary?\n",
    "- Add city of the bank branch"
   ]
  },
  {
   "cell_type": "code",
   "execution_count": 27,
   "id": "f4449ee5",
   "metadata": {},
   "outputs": [],
   "source": [
    "accounts['city'] = list()\n"
   ]
  },
  {
   "cell_type": "code",
   "execution_count": 31,
   "id": "5d0d44f0",
   "metadata": {},
   "outputs": [
    {
     "name": "stdout",
     "output_type": "stream",
     "text": [
      "updated accounts-ditionary = {'type': ['Saving', 'Current', 'Saving'], 'bank': ['BOC', 'SEY', 'SAM'], 'year': [2000, 2001, 2003], 'city': ['Colombo']}\n"
     ]
    }
   ],
   "source": [
    "print('updated accounts-ditionary =', accounts)\n",
    "accounts['city'].append('Colombo')"
   ]
  },
  {
   "cell_type": "code",
   "execution_count": 35,
   "id": "a7f5cb80",
   "metadata": {},
   "outputs": [],
   "source": [
    "accounts['city'] = list()\n",
    "accounts['city'].append('Colombo')\n",
    "accounts['city'].append('Kandy')\n",
    "accounts['city'].append('Jaffna')"
   ]
  },
  {
   "cell_type": "code",
   "execution_count": 37,
   "id": "9ea01166",
   "metadata": {},
   "outputs": [
    {
     "data": {
      "text/plain": [
       "{'type': ['Saving', 'Current', 'Saving'],\n",
       " 'bank': ['BOC', 'SEY', 'SAM'],\n",
       " 'year': [2000, 2001, 2003],\n",
       " 'city': ['Colombo', 'Kandy', 'Jaffna']}"
      ]
     },
     "execution_count": 37,
     "metadata": {},
     "output_type": "execute_result"
    }
   ],
   "source": [
    "accounts"
   ]
  },
  {
   "cell_type": "code",
   "execution_count": 41,
   "id": "c42b982e",
   "metadata": {},
   "outputs": [],
   "source": [
    "def getAccountAt(accounts, accountIndex):\n",
    "    account = list()\n",
    "    for key in accounts.keys():\n",
    "        account.append(accounts[key][accountIndex])\n",
    "    \n",
    "    return account\n",
    "    \n",
    "    \n",
    "    "
   ]
  },
  {
   "cell_type": "code",
   "execution_count": 46,
   "id": "8d6bbaff",
   "metadata": {},
   "outputs": [
    {
     "data": {
      "text/plain": [
       "['Saving', 'SAM', 2003, 'Jaffna']"
      ]
     },
     "execution_count": 46,
     "metadata": {},
     "output_type": "execute_result"
    }
   ],
   "source": [
    "getAccountAt(accounts, 2)"
   ]
  },
  {
   "cell_type": "code",
   "execution_count": 49,
   "id": "0c382abc",
   "metadata": {},
   "outputs": [],
   "source": [
    "def addAcccount(accounts, account_list):\n",
    "    accounts['type'].append(account_list[0])\n",
    "    accounts['bank'].append(account_list[1])\n",
    "    accounts['year'].append(account_list[2])\n",
    "    accounts['city'].append(account_list[3])\n"
   ]
  },
  {
   "cell_type": "code",
   "execution_count": 51,
   "id": "d8ca23d7",
   "metadata": {},
   "outputs": [],
   "source": [
    "addAcccount(accounts, ['Current', 'PEO', 2020, 'Matara'])"
   ]
  },
  {
   "cell_type": "code",
   "execution_count": 54,
   "id": "d8260645",
   "metadata": {},
   "outputs": [
    {
     "data": {
      "text/plain": [
       "['Current', 'PEO', 2020, 'Matara']"
      ]
     },
     "execution_count": 54,
     "metadata": {},
     "output_type": "execute_result"
    }
   ],
   "source": [
    "getAccountAt(accounts, 3)"
   ]
  },
  {
   "cell_type": "code",
   "execution_count": null,
   "id": "1ac9bc38",
   "metadata": {},
   "outputs": [],
   "source": []
  },
  {
   "cell_type": "markdown",
   "id": "fb21cec6",
   "metadata": {},
   "source": [
    "### Example - Use Data Structures\n",
    "Import Bank-Data with names ('bankdata_2.csv')\n",
    "\n",
    "1. Create a list of names using the names in \"Name\" column. Find how many distict names are there.\n",
    "2. Create two list of first names and last names. Find how many distinct first and last names are there.\n",
    "3. What is the most frequent contact type used by the people who have the surname \"Williams\"?\n",
    "4. Among married people how many of them bear the surname \"Warner\"?"
   ]
  },
  {
   "cell_type": "code",
   "execution_count": 56,
   "id": "9728189d",
   "metadata": {},
   "outputs": [],
   "source": [
    "import pandas as pd"
   ]
  },
  {
   "cell_type": "code",
   "execution_count": 58,
   "id": "8f43d5e2",
   "metadata": {},
   "outputs": [],
   "source": [
    "data = pd.read_csv('bankdata_2.csv')"
   ]
  },
  {
   "cell_type": "code",
   "execution_count": 60,
   "id": "96a0e5a9",
   "metadata": {},
   "outputs": [
    {
     "data": {
      "text/html": [
       "<div>\n",
       "<style scoped>\n",
       "    .dataframe tbody tr th:only-of-type {\n",
       "        vertical-align: middle;\n",
       "    }\n",
       "\n",
       "    .dataframe tbody tr th {\n",
       "        vertical-align: top;\n",
       "    }\n",
       "\n",
       "    .dataframe thead th {\n",
       "        text-align: right;\n",
       "    }\n",
       "</style>\n",
       "<table border=\"1\" class=\"dataframe\">\n",
       "  <thead>\n",
       "    <tr style=\"text-align: right;\">\n",
       "      <th></th>\n",
       "      <th>age</th>\n",
       "      <th>job</th>\n",
       "      <th>marital</th>\n",
       "      <th>education</th>\n",
       "      <th>default</th>\n",
       "      <th>balance</th>\n",
       "      <th>housing</th>\n",
       "      <th>loan</th>\n",
       "      <th>contact</th>\n",
       "      <th>day</th>\n",
       "      <th>month</th>\n",
       "      <th>duration</th>\n",
       "      <th>campaign</th>\n",
       "      <th>pdays</th>\n",
       "      <th>previous</th>\n",
       "      <th>poutcome</th>\n",
       "      <th>y</th>\n",
       "      <th>Name</th>\n",
       "    </tr>\n",
       "  </thead>\n",
       "  <tbody>\n",
       "    <tr>\n",
       "      <th>0</th>\n",
       "      <td>30</td>\n",
       "      <td>unemployed</td>\n",
       "      <td>married</td>\n",
       "      <td>primary</td>\n",
       "      <td>no</td>\n",
       "      <td>1787</td>\n",
       "      <td>no</td>\n",
       "      <td>no</td>\n",
       "      <td>cellular</td>\n",
       "      <td>19</td>\n",
       "      <td>oct</td>\n",
       "      <td>79</td>\n",
       "      <td>1</td>\n",
       "      <td>-1</td>\n",
       "      <td>0</td>\n",
       "      <td>unknown</td>\n",
       "      <td>no</td>\n",
       "      <td>Mike Willy</td>\n",
       "    </tr>\n",
       "    <tr>\n",
       "      <th>1</th>\n",
       "      <td>33</td>\n",
       "      <td>services</td>\n",
       "      <td>married</td>\n",
       "      <td>secondary</td>\n",
       "      <td>no</td>\n",
       "      <td>4789</td>\n",
       "      <td>yes</td>\n",
       "      <td>yes</td>\n",
       "      <td>cellular</td>\n",
       "      <td>11</td>\n",
       "      <td>may</td>\n",
       "      <td>220</td>\n",
       "      <td>1</td>\n",
       "      <td>339</td>\n",
       "      <td>4</td>\n",
       "      <td>failure</td>\n",
       "      <td>no</td>\n",
       "      <td>Robert Willy</td>\n",
       "    </tr>\n",
       "    <tr>\n",
       "      <th>2</th>\n",
       "      <td>35</td>\n",
       "      <td>management</td>\n",
       "      <td>single</td>\n",
       "      <td>tertiary</td>\n",
       "      <td>no</td>\n",
       "      <td>1350</td>\n",
       "      <td>yes</td>\n",
       "      <td>no</td>\n",
       "      <td>cellular</td>\n",
       "      <td>16</td>\n",
       "      <td>apr</td>\n",
       "      <td>185</td>\n",
       "      <td>1</td>\n",
       "      <td>330</td>\n",
       "      <td>1</td>\n",
       "      <td>failure</td>\n",
       "      <td>no</td>\n",
       "      <td>Jennifer Willy</td>\n",
       "    </tr>\n",
       "    <tr>\n",
       "      <th>3</th>\n",
       "      <td>30</td>\n",
       "      <td>management</td>\n",
       "      <td>married</td>\n",
       "      <td>tertiary</td>\n",
       "      <td>no</td>\n",
       "      <td>1476</td>\n",
       "      <td>yes</td>\n",
       "      <td>yes</td>\n",
       "      <td>unknown</td>\n",
       "      <td>3</td>\n",
       "      <td>jun</td>\n",
       "      <td>199</td>\n",
       "      <td>4</td>\n",
       "      <td>-1</td>\n",
       "      <td>0</td>\n",
       "      <td>unknown</td>\n",
       "      <td>no</td>\n",
       "      <td>Lilly Williams</td>\n",
       "    </tr>\n",
       "    <tr>\n",
       "      <th>4</th>\n",
       "      <td>59</td>\n",
       "      <td>blue-collar</td>\n",
       "      <td>married</td>\n",
       "      <td>secondary</td>\n",
       "      <td>no</td>\n",
       "      <td>0</td>\n",
       "      <td>yes</td>\n",
       "      <td>no</td>\n",
       "      <td>unknown</td>\n",
       "      <td>5</td>\n",
       "      <td>may</td>\n",
       "      <td>226</td>\n",
       "      <td>1</td>\n",
       "      <td>-1</td>\n",
       "      <td>0</td>\n",
       "      <td>unknown</td>\n",
       "      <td>no</td>\n",
       "      <td>Robert Willy</td>\n",
       "    </tr>\n",
       "  </tbody>\n",
       "</table>\n",
       "</div>"
      ],
      "text/plain": [
       "   age          job  marital  education default  balance housing loan  \\\n",
       "0   30   unemployed  married    primary      no     1787      no   no   \n",
       "1   33     services  married  secondary      no     4789     yes  yes   \n",
       "2   35   management   single   tertiary      no     1350     yes   no   \n",
       "3   30   management  married   tertiary      no     1476     yes  yes   \n",
       "4   59  blue-collar  married  secondary      no        0     yes   no   \n",
       "\n",
       "    contact  day month  duration  campaign  pdays  previous poutcome   y  \\\n",
       "0  cellular   19   oct        79         1     -1         0  unknown  no   \n",
       "1  cellular   11   may       220         1    339         4  failure  no   \n",
       "2  cellular   16   apr       185         1    330         1  failure  no   \n",
       "3   unknown    3   jun       199         4     -1         0  unknown  no   \n",
       "4   unknown    5   may       226         1     -1         0  unknown  no   \n",
       "\n",
       "             Name  \n",
       "0      Mike Willy  \n",
       "1    Robert Willy  \n",
       "2  Jennifer Willy  \n",
       "3  Lilly Williams  \n",
       "4    Robert Willy  "
      ]
     },
     "execution_count": 60,
     "metadata": {},
     "output_type": "execute_result"
    }
   ],
   "source": [
    "data.head()"
   ]
  },
  {
   "cell_type": "code",
   "execution_count": 62,
   "id": "abc784c0",
   "metadata": {},
   "outputs": [],
   "source": [
    "names = list(data.Name)"
   ]
  },
  {
   "cell_type": "code",
   "execution_count": 70,
   "id": "5646549c",
   "metadata": {},
   "outputs": [
    {
     "data": {
      "text/plain": [
       "['Mike Willy', 'Robert Willy', 'Jennifer Willy']"
      ]
     },
     "execution_count": 70,
     "metadata": {},
     "output_type": "execute_result"
    }
   ],
   "source": [
    "names[0:3]"
   ]
  },
  {
   "cell_type": "code",
   "execution_count": 72,
   "id": "81e28d52",
   "metadata": {},
   "outputs": [],
   "source": [
    "name_set = set(names)"
   ]
  },
  {
   "cell_type": "code",
   "execution_count": 73,
   "id": "bc7c09fa",
   "metadata": {},
   "outputs": [
    {
     "data": {
      "text/plain": [
       "{'Jennifer Browns',\n",
       " 'Jennifer Stallon',\n",
       " 'Jennifer Warner',\n",
       " 'Jennifer Williams',\n",
       " 'Jennifer Willy',\n",
       " 'John Browns',\n",
       " 'John Stallon',\n",
       " 'John Warner',\n",
       " 'John Williams',\n",
       " 'John Willy',\n",
       " 'Lilly Browns',\n",
       " 'Lilly Stallon',\n",
       " 'Lilly Warner',\n",
       " 'Lilly Williams',\n",
       " 'Lilly Willy',\n",
       " 'Mike Browns',\n",
       " 'Mike Stallon',\n",
       " 'Mike Warner',\n",
       " 'Mike Williams',\n",
       " 'Mike Willy',\n",
       " 'Robert Browns',\n",
       " 'Robert Stallon',\n",
       " 'Robert Warner',\n",
       " 'Robert Williams',\n",
       " 'Robert Willy'}"
      ]
     },
     "execution_count": 73,
     "metadata": {},
     "output_type": "execute_result"
    }
   ],
   "source": [
    "name_set"
   ]
  },
  {
   "cell_type": "code",
   "execution_count": 74,
   "id": "192ef07d",
   "metadata": {},
   "outputs": [
    {
     "name": "stdout",
     "output_type": "stream",
     "text": [
      "Number of distinct names in data = 25\n"
     ]
    }
   ],
   "source": [
    "print('Number of distinct names in data =', len(set(names)))"
   ]
  },
  {
   "cell_type": "markdown",
   "id": "2c41cee7",
   "metadata": {},
   "source": [
    "## Create two list of first names and last names. Find how many distinct first and last names are there."
   ]
  },
  {
   "cell_type": "code",
   "execution_count": 77,
   "id": "8034631d",
   "metadata": {},
   "outputs": [
    {
     "data": {
      "text/plain": [
       "0        Mike Willy\n",
       "1      Robert Willy\n",
       "2    Jennifer Willy\n",
       "3    Lilly Williams\n",
       "4      Robert Willy\n",
       "Name: Name, dtype: object"
      ]
     },
     "execution_count": 77,
     "metadata": {},
     "output_type": "execute_result"
    }
   ],
   "source": [
    "data.Name.head()"
   ]
  },
  {
   "cell_type": "code",
   "execution_count": 84,
   "id": "46e58468",
   "metadata": {},
   "outputs": [],
   "source": [
    "first_name = list()\n",
    "last_name = list()\n",
    "for i in range(len(data.Name)):\n",
    "    name_parts = data.Name[i].split()\n",
    "    first_name.append(name_parts[0])\n",
    "    last_name.append(name_parts[1])\n",
    "\n",
    "    "
   ]
  },
  {
   "cell_type": "code",
   "execution_count": 87,
   "id": "544adee9",
   "metadata": {},
   "outputs": [
    {
     "name": "stdout",
     "output_type": "stream",
     "text": [
      "Full Name: Mike Willy , First Name: Mike , last name: Willy\n",
      "Full Name: Robert Willy , First Name: Robert , last name: Willy\n",
      "Full Name: Mike Stallon , First Name: Mike , last name Stallon\n"
     ]
    }
   ],
   "source": [
    "print(\"Full Name:\", data.Name[0], \", First Name:\",  first_name[0], \", last name:\", last_name[0])\n",
    "print(\"Full Name:\", data.Name[1], \", First Name:\",  first_name[1], \", last name:\", last_name[1])\n",
    "print(\"Full Name:\", data.Name[100], \", First Name:\",  first_name[100], \", last name\", last_name[100])"
   ]
  },
  {
   "cell_type": "code",
   "execution_count": 89,
   "id": "69da2537",
   "metadata": {},
   "outputs": [
    {
     "name": "stdout",
     "output_type": "stream",
     "text": [
      "Number of Unique first names 5\n",
      "Number of Unique last names 5\n"
     ]
    }
   ],
   "source": [
    "print(\"Number of Unique first names\", len(set(first_name)))\n",
    "print(\"Number of Unique last names\", len(set(last_name)))"
   ]
  },
  {
   "cell_type": "code",
   "execution_count": 91,
   "id": "4eab2481",
   "metadata": {},
   "outputs": [
    {
     "data": {
      "text/plain": [
       "{'Jennifer', 'John', 'Lilly', 'Mike', 'Robert'}"
      ]
     },
     "execution_count": 91,
     "metadata": {},
     "output_type": "execute_result"
    }
   ],
   "source": [
    "set(first_name)"
   ]
  },
  {
   "cell_type": "code",
   "execution_count": 93,
   "id": "3d443340",
   "metadata": {},
   "outputs": [
    {
     "data": {
      "text/plain": [
       "{'Browns', 'Stallon', 'Warner', 'Williams', 'Willy'}"
      ]
     },
     "execution_count": 93,
     "metadata": {},
     "output_type": "execute_result"
    }
   ],
   "source": [
    "set(last_name)"
   ]
  },
  {
   "cell_type": "code",
   "execution_count": 95,
   "id": "9ad4d0b8",
   "metadata": {},
   "outputs": [],
   "source": [
    "# What is the most frequent contact type used by the people who have the surname \"Williams\"?\n",
    "\n",
    "# We may use dictionary to store the contact type informations\n",
    "\n",
    "contacts = dict()"
   ]
  },
  {
   "cell_type": "code",
   "execution_count": 101,
   "id": "ba135c2f",
   "metadata": {},
   "outputs": [
    {
     "data": {
      "text/plain": [
       "{'cellular', 'telephone', 'unknown'}"
      ]
     },
     "execution_count": 101,
     "metadata": {},
     "output_type": "execute_result"
    }
   ],
   "source": [
    "set(list(data.contact))"
   ]
  },
  {
   "cell_type": "code",
   "execution_count": 140,
   "id": "05d2f04e",
   "metadata": {},
   "outputs": [],
   "source": [
    "def updateKeyToListDict(contacts, contact_type, name):\n",
    "    if contact_type in contacts:\n",
    "        contacts[contact_type].append(name)\n",
    "    else:\n",
    "        contacts[contact_type] = list()\n",
    "        contacts[contact_type].append(name)\n",
    "        \n",
    "       "
   ]
  },
  {
   "cell_type": "code",
   "execution_count": 141,
   "id": "16fc4c76",
   "metadata": {},
   "outputs": [],
   "source": [
    "for i in range(len(data.contact)):\n",
    "    updateKeyToListDict(contacts, data.contact[i], last_name[i])"
   ]
  },
  {
   "cell_type": "code",
   "execution_count": 142,
   "id": "179e3464",
   "metadata": {},
   "outputs": [
    {
     "data": {
      "text/plain": [
       "dict_keys(['cellular', 'unknown', 'telephone'])"
      ]
     },
     "execution_count": 142,
     "metadata": {},
     "output_type": "execute_result"
    }
   ],
   "source": [
    "contacts.keys()"
   ]
  },
  {
   "cell_type": "code",
   "execution_count": 112,
   "id": "8351a686",
   "metadata": {},
   "outputs": [
    {
     "data": {
      "text/plain": [
       "['Willy', 'Willy', 'Williams', 'Williams']"
      ]
     },
     "execution_count": 112,
     "metadata": {},
     "output_type": "execute_result"
    }
   ],
   "source": [
    "contacts['cellular'][1:5]"
   ]
  },
  {
   "cell_type": "code",
   "execution_count": 114,
   "id": "93aa8d8d",
   "metadata": {},
   "outputs": [
    {
     "data": {
      "text/plain": [
       "['Willy', 'Stallon', 'Browns', 'Browns']"
      ]
     },
     "execution_count": 114,
     "metadata": {},
     "output_type": "execute_result"
    }
   ],
   "source": [
    "contacts['unknown'][1:5]"
   ]
  },
  {
   "cell_type": "code",
   "execution_count": 116,
   "id": "d50f41b1",
   "metadata": {},
   "outputs": [
    {
     "data": {
      "text/plain": [
       "['Willy', 'Willy', 'Stallon', 'Browns']"
      ]
     },
     "execution_count": 116,
     "metadata": {},
     "output_type": "execute_result"
    }
   ],
   "source": [
    "contacts['telephone'][1:5]"
   ]
  },
  {
   "cell_type": "code",
   "execution_count": 120,
   "id": "5d1be304",
   "metadata": {},
   "outputs": [],
   "source": [
    "def countNames(name_list, name):\n",
    "    count = 0\n",
    "    for i in range(len(name_list)):\n",
    "        if name_list[i] == name:\n",
    "            count = count + 1\n",
    "    \n",
    "    return count\n",
    "        "
   ]
  },
  {
   "cell_type": "code",
   "execution_count": 122,
   "id": "37c876ef",
   "metadata": {},
   "outputs": [
    {
     "data": {
      "text/plain": [
       "104"
      ]
     },
     "execution_count": 122,
     "metadata": {},
     "output_type": "execute_result"
    }
   ],
   "source": [
    "countNames(contacts['telephone'], 'Williams')"
   ]
  },
  {
   "cell_type": "code",
   "execution_count": 124,
   "id": "d3602681",
   "metadata": {},
   "outputs": [
    {
     "data": {
      "text/plain": [
       "1154"
      ]
     },
     "execution_count": 124,
     "metadata": {},
     "output_type": "execute_result"
    }
   ],
   "source": [
    "countNames(contacts['cellular'], 'Williams')"
   ]
  },
  {
   "cell_type": "code",
   "execution_count": 128,
   "id": "3675075b",
   "metadata": {},
   "outputs": [
    {
     "data": {
      "text/plain": [
       "564"
      ]
     },
     "execution_count": 128,
     "metadata": {},
     "output_type": "execute_result"
    }
   ],
   "source": [
    "countNames(contacts['unknown'], 'Williams')"
   ]
  },
  {
   "cell_type": "code",
   "execution_count": 129,
   "id": "2d4539e4",
   "metadata": {},
   "outputs": [],
   "source": [
    "frequency = dict()"
   ]
  },
  {
   "cell_type": "code",
   "execution_count": 131,
   "id": "734ccecf",
   "metadata": {},
   "outputs": [],
   "source": [
    "name = \"Williams\"\n",
    "for key, value in contacts.items():\n",
    "    frequency[key] = countNames(value, name)\n"
   ]
  },
  {
   "cell_type": "code",
   "execution_count": 133,
   "id": "b0d9608b",
   "metadata": {},
   "outputs": [
    {
     "data": {
      "text/plain": [
       "{'cellular': 1154, 'unknown': 564, 'telephone': 104}"
      ]
     },
     "execution_count": 133,
     "metadata": {},
     "output_type": "execute_result"
    }
   ],
   "source": [
    "frequency"
   ]
  },
  {
   "cell_type": "code",
   "execution_count": 136,
   "id": "f5b38468",
   "metadata": {},
   "outputs": [],
   "source": [
    "def getFrequency(contacts, name):\n",
    "    frequency = dict()\n",
    "    for key, value in contacts.items():\n",
    "        frequency[key] = countNames(value, name)\n",
    "    return frequency\n"
   ]
  },
  {
   "cell_type": "code",
   "execution_count": 138,
   "id": "04d7aee7",
   "metadata": {},
   "outputs": [
    {
     "data": {
      "text/plain": [
       "{'cellular': 1154, 'unknown': 564, 'telephone': 104}"
      ]
     },
     "execution_count": 138,
     "metadata": {},
     "output_type": "execute_result"
    }
   ],
   "source": [
    "getFrequency(contacts, \"Williams\")"
   ]
  },
  {
   "cell_type": "code",
   "execution_count": 143,
   "id": "8cebdbc3",
   "metadata": {},
   "outputs": [
    {
     "data": {
      "text/plain": [
       "{'cellular': 1797, 'unknown': 768, 'telephone': 177}"
      ]
     },
     "execution_count": 143,
     "metadata": {},
     "output_type": "execute_result"
    }
   ],
   "source": [
    "getFrequency(contacts, \"Warner\")"
   ]
  },
  {
   "cell_type": "markdown",
   "id": "78c8da3c",
   "metadata": {},
   "source": [
    "#### Among married people how many of them bear the surname \"Warner\"?"
   ]
  },
  {
   "cell_type": "code",
   "execution_count": 145,
   "id": "b22c6c42",
   "metadata": {},
   "outputs": [],
   "source": [
    "\n",
    "maritalStatus = dict()\n",
    "for i in range(len(data.marital)):\n",
    "    updateKeyToListDict(maritalStatus, data.marital[i], last_name[i])"
   ]
  },
  {
   "cell_type": "code",
   "execution_count": 147,
   "id": "85764b11",
   "metadata": {},
   "outputs": [
    {
     "data": {
      "text/plain": [
       "dict_keys(['married', 'single', 'divorced'])"
      ]
     },
     "execution_count": 147,
     "metadata": {},
     "output_type": "execute_result"
    }
   ],
   "source": [
    "maritalStatus.keys()"
   ]
  },
  {
   "cell_type": "code",
   "execution_count": 148,
   "id": "7b25ff85",
   "metadata": {},
   "outputs": [
    {
     "data": {
      "text/plain": [
       "{'married': 581, 'single': 242, 'divorced': 91}"
      ]
     },
     "execution_count": 148,
     "metadata": {},
     "output_type": "execute_result"
    }
   ],
   "source": [
    "getFrequency(maritalStatus, \"Warner\")"
   ]
  }
 ],
 "metadata": {
  "kernelspec": {
   "display_name": "Python 3 (ipykernel)",
   "language": "python",
   "name": "python3"
  },
  "language_info": {
   "codemirror_mode": {
    "name": "ipython",
    "version": 3
   },
   "file_extension": ".py",
   "mimetype": "text/x-python",
   "name": "python",
   "nbconvert_exporter": "python",
   "pygments_lexer": "ipython3",
   "version": "3.11.2"
  }
 },
 "nbformat": 4,
 "nbformat_minor": 5
}
